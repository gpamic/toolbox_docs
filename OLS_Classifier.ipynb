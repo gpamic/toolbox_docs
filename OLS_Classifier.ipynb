{
 "cells": [
  {
   "cell_type": "markdown",
   "metadata": {},
   "source": [
    "<center><h1>Ordinary Least Squares Classifier</h1></center>"
   ]
  },
  {
   "cell_type": "markdown",
   "metadata": {},
   "source": [
    "## Summary:\n",
    "\n",
    "1. [Introduction](#introduction)\n",
    "\n",
    "2. [Using the Classifier](#using_classifier)"
   ]
  },
  {
   "cell_type": "markdown",
   "metadata": {},
   "source": [
    "# 1. Introduction <a class=\"anchor\" id=\"introduction\"></a>"
   ]
  },
  {
   "cell_type": "markdown",
   "metadata": {},
   "source": [
    "The ordinary least squares classifier is based on an aproximation of a model that relates the inputs and outpus of a system by linear parameters.\n",
    "\n",
    "Formally, we can define a set of input and output pairs x,y ...\n",
    "\n",
    "We can...\n"
   ]
  },
  {
   "cell_type": "markdown",
   "metadata": {},
   "source": [
    "# 2. Using the classifier <a class=\"anchor\" id=\"using_classifier\"></a>"
   ]
  },
  {
   "cell_type": "code",
   "execution_count": 36,
   "metadata": {},
   "outputs": [],
   "source": [
    "# Import the toolbox and its modules from the parent folder\n",
    "\n",
    "import sys\n",
    "sys.path.insert(0,'..')\n",
    "\n",
    "from toolbox.learning.linear.ols import OrdinaryLeastSquare\n",
    "from toolbox.preprocessing.encoding import dummie2multilabel\n",
    "from toolbox.evaluation.classifiers import confusion_matrix, compute_indices\n",
    "\n",
    "# Import Auxiliary Libraries\n",
    "\n",
    "import numpy as np\n",
    "\n",
    "from sklearn.model_selection import train_test_split\n",
    "from sklearn.metrics import accuracy_score\n",
    "from sklearn.datasets import load_digits\n",
    "from sklearn.preprocessing import MinMaxScaler\n"
   ]
  },
  {
   "cell_type": "code",
   "execution_count": 37,
   "metadata": {},
   "outputs": [],
   "source": [
    "# DataSet\n",
    "\n",
    "# Import digits recognition dataset (from sklearn)\n",
    "\n",
    "X, y = load_digits(return_X_y=True)\n",
    "X_tr, X_ts, y_tr, y_ts = train_test_split(X, y, test_size=0.4, random_state=2020)\n",
    "\n",
    "# Scaling features (from sklearn)\n",
    "\n",
    "scaler = MinMaxScaler()\n",
    "scaler.fit(X_train)\n",
    "X_tr_norm = scaler.transform(X_tr)\n",
    "X_ts_norm = scaler.transform(X_ts)\n"
   ]
  },
  {
   "cell_type": "code",
   "execution_count": 38,
   "metadata": {},
   "outputs": [],
   "source": [
    "# OLS Classifier (from ml_toolbox)\n",
    "\n",
    "ols = OrdinaryLeastSquare()\n",
    "ols.fit(X_tr_norm, y_tr, in_row=True)\n",
    "y_ols = ols.predict(X_ts_norm, in_row=True)\n"
   ]
  },
  {
   "cell_type": "code",
   "execution_count": 39,
   "metadata": {},
   "outputs": [
    {
     "name": "stdout",
     "output_type": "stream",
     "text": [
      "Results - OLS\n",
      "0.8956884561891516\n"
     ]
    }
   ],
   "source": [
    "# Evaulate Predictions\n",
    "\n",
    "print('Results - OLS')\n",
    "acc = accuracy_score(dummie2multilabel(y_ts), dummie2multilabel(y_ols))\n",
    "print(acc)\n"
   ]
  },
  {
   "cell_type": "code",
   "execution_count": null,
   "metadata": {},
   "outputs": [],
   "source": []
  }
 ],
 "metadata": {
  "kernelspec": {
   "display_name": "Python 3",
   "language": "python",
   "name": "python3"
  },
  "language_info": {
   "codemirror_mode": {
    "name": "ipython",
    "version": 3
   },
   "file_extension": ".py",
   "mimetype": "text/x-python",
   "name": "python",
   "nbconvert_exporter": "python",
   "pygments_lexer": "ipython3",
   "version": "3.7.7"
  }
 },
 "nbformat": 4,
 "nbformat_minor": 4
}
