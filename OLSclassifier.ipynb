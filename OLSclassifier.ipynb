{
 "cells": [
  {
   "cell_type": "markdown",
   "metadata": {},
   "source": [
    "<center><h1>Ordinary Least Squares Classifier</h1></center>"
   ]
  },
  {
   "cell_type": "markdown",
   "metadata": {},
   "source": [
    "## Summary:\n",
    "\n",
    "1. [Introduction](#introduction)\n",
    "\n",
    "2. [Using the Classifier](#using_classifier)"
   ]
  },
  {
   "cell_type": "markdown",
   "metadata": {},
   "source": [
    "# 1. Introduction <a class=\"anchor\" id=\"introduction\"></a>"
   ]
  },
  {
   "cell_type": "markdown",
   "metadata": {},
   "source": [
    "The ordinary least squares classifier is based on an aproximation of a model that relates the inputs and outpus of a system by linear parameters.\n",
    "\n",
    "Formally, we can define a set of input and output pairs x,y ...\n",
    "\n",
    "We can \n"
   ]
  },
  {
   "cell_type": "markdown",
   "metadata": {},
   "source": [
    "# 2. Using the classifier <a class=\"anchor\" id=\"using_classifier\"></a>"
   ]
  },
  {
   "cell_type": "code",
   "execution_count": 1,
   "metadata": {},
   "outputs": [],
   "source": [
    "# Import the toolbox from the parent folder\n",
    "import sys\n",
    "sys.path.insert(0,'..')\n",
    "\n",
    "from toolbox.learning.linear.ols import OrdinaryLeastSquare"
   ]
  },
  {
   "cell_type": "code",
   "execution_count": 1,
   "metadata": {},
   "outputs": [],
   "source": [
    "import numpy as np\n",
    "\n",
    "# convert dummies to multilabel\n",
    "def dummie2multilabel(X):\n",
    "    N = len(X)\n",
    "    X_multi = np.zeros((N,1),dtype='int')\n",
    "    for i in range(N):\n",
    "        temp = np.where(X[i]==1)[0] # find 1 in the array\n",
    "        if temp.size == 0: # is a empty array, there is no '1' in the X[i] array\n",
    "            X_multi[i] = 0 # so we denote this class '0'\n",
    "        else:\n",
    "            X_multi[i] = temp[0] + 1\n",
    "    return X_multi.T[0]"
   ]
  },
  {
   "cell_type": "code",
   "execution_count": null,
   "metadata": {},
   "outputs": [],
   "source": []
  }
 ],
 "metadata": {
  "kernelspec": {
   "display_name": "Python 3",
   "language": "python",
   "name": "python3"
  },
  "language_info": {
   "codemirror_mode": {
    "name": "ipython",
    "version": 3
   },
   "file_extension": ".py",
   "mimetype": "text/x-python",
   "name": "python",
   "nbconvert_exporter": "python",
   "pygments_lexer": "ipython3",
   "version": "3.7.7"
  }
 },
 "nbformat": 4,
 "nbformat_minor": 4
}
