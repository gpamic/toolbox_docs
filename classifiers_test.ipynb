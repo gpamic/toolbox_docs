{
 "cells": [
  {
   "cell_type": "code",
   "execution_count": 2,
   "metadata": {},
   "outputs": [],
   "source": [
    "# Include the parent folder (to use the library folder)\n",
    "\n",
    "import sys\n",
    "sys.path.insert(0,'..')"
   ]
  },
  {
   "cell_type": "code",
   "execution_count": 3,
   "metadata": {},
   "outputs": [
    {
     "ename": "ImportError",
     "evalue": "cannot import name 'dataset_loader' from 'toolbox.datasets' (..\\toolbox\\datasets\\__init__.py)",
     "output_type": "error",
     "traceback": [
      "\u001b[1;31m---------------------------------------------------------------------------\u001b[0m",
      "\u001b[1;31mImportError\u001b[0m                               Traceback (most recent call last)",
      "\u001b[1;32m<ipython-input-3-9285677a8502>\u001b[0m in \u001b[0;36m<module>\u001b[1;34m\u001b[0m\n\u001b[0;32m      1\u001b[0m \u001b[1;31m# Get toolbox functions\u001b[0m\u001b[1;33m\u001b[0m\u001b[1;33m\u001b[0m\u001b[1;33m\u001b[0m\u001b[0m\n\u001b[0;32m      2\u001b[0m \u001b[1;33m\u001b[0m\u001b[0m\n\u001b[1;32m----> 3\u001b[1;33m \u001b[1;32mfrom\u001b[0m \u001b[0mtoolbox\u001b[0m\u001b[1;33m.\u001b[0m\u001b[0mdatasets\u001b[0m \u001b[1;32mimport\u001b[0m \u001b[0mdataset_loader\u001b[0m\u001b[1;33m\u001b[0m\u001b[1;33m\u001b[0m\u001b[0m\n\u001b[0m\u001b[0;32m      4\u001b[0m \u001b[1;32mfrom\u001b[0m \u001b[0mtoolbox\u001b[0m\u001b[1;33m.\u001b[0m\u001b[0mdatasets\u001b[0m\u001b[1;33m.\u001b[0m\u001b[0mdataset_loader\u001b[0m \u001b[1;32mimport\u001b[0m \u001b[0mdataset_pipeline\u001b[0m\u001b[1;33m\u001b[0m\u001b[1;33m\u001b[0m\u001b[0m\n\u001b[0;32m      5\u001b[0m \u001b[1;33m\u001b[0m\u001b[0m\n",
      "\u001b[1;31mImportError\u001b[0m: cannot import name 'dataset_loader' from 'toolbox.datasets' (..\\toolbox\\datasets\\__init__.py)"
     ]
    }
   ],
   "source": [
    "# Get toolbox functions\n",
    "\n",
    "from toolbox.datasets import dataset_loader\n",
    "from toolbox.datasets.dataset_loader import dataset_pipeline\n",
    "\n",
    "from toolbox.preprocessing.encoding import class_label_encode\n",
    "from toolbox.preprocessing import hold_out\n",
    "from toolbox.preprocessing.normalization import normalize\n",
    "\n",
    "from toolbox.evaluation.classification import confusion_matrix, compute_indices\n",
    "\n",
    "from toolbox.learning.linear.ols import OrdinaryLeastSquare\n",
    "from toolbox.learning.neural_networks.supervised.models.elm import ExtremeLearningMachine\n",
    "from toolbox.learning.neural_networks.supervised.models.mlp import MultiLayerPerceptron\n",
    "from toolbox.learning.svm.LSSVC import LSSVC\n",
    "from toolbox.learning.svm.LSSVC_GPU import LSSVC_GPU"
   ]
  },
  {
   "cell_type": "code",
   "execution_count": 3,
   "metadata": {},
   "outputs": [
    {
     "name": "stdout",
     "output_type": "stream",
     "text": [
      "Shapes: N N p n_classes\n",
      "120 120 4 3\n"
     ]
    }
   ],
   "source": [
    "# Load and Pre-process Data Set\n",
    "\n",
    "experiment = {\n",
    "       'DS'  : 'iris',                                   # Dataset\n",
    "       'CV'  : {'type': 'hold-out', 'train_size': 0.8},  # Hold-out cross validation with 5 repetitions Tr/Te = 80/20\n",
    "       'PP'  : {'norm_type': 'z_score', 'label_encoding': 'binary'},\n",
    "       'OUT' : {'file_name': 'teste_1', 'file_path': ''}\n",
    "}\n",
    "\n",
    "X_tr, y_tr, X_ts, y_ts = dataset_pipeline(s_info = experiment)\n",
    "\n",
    "N1 = X_tr.shape[0]\n",
    "N2 = y_tr.shape[0]\n",
    "\n",
    "p = X_tr.shape[1]\n",
    "n_classes = y_tr.shape[1]\n",
    "\n",
    "print('Shapes: N N p n_classes')\n",
    "print(N1,N2,p,n_classes)"
   ]
  },
  {
   "cell_type": "code",
   "execution_count": 4,
   "metadata": {},
   "outputs": [
    {
     "ename": "NameError",
     "evalue": "name 'OrdinaryLeastSquare' is not defined",
     "output_type": "error",
     "traceback": [
      "\u001b[1;31m---------------------------------------------------------------------------\u001b[0m",
      "\u001b[1;31mNameError\u001b[0m                                 Traceback (most recent call last)",
      "\u001b[1;32m<ipython-input-4-71fc86d665a3>\u001b[0m in \u001b[0;36m<module>\u001b[1;34m\u001b[0m\n\u001b[0;32m      2\u001b[0m \u001b[1;33m\u001b[0m\u001b[0m\n\u001b[0;32m      3\u001b[0m \u001b[1;31m# OLS experimentation\u001b[0m\u001b[1;33m\u001b[0m\u001b[1;33m\u001b[0m\u001b[1;33m\u001b[0m\u001b[0m\n\u001b[1;32m----> 4\u001b[1;33m \u001b[0mols\u001b[0m \u001b[1;33m=\u001b[0m \u001b[0mOrdinaryLeastSquare\u001b[0m\u001b[1;33m(\u001b[0m\u001b[1;33m)\u001b[0m\u001b[1;33m\u001b[0m\u001b[1;33m\u001b[0m\u001b[0m\n\u001b[0m\u001b[0;32m      5\u001b[0m \u001b[0mols\u001b[0m\u001b[1;33m.\u001b[0m\u001b[0mfit\u001b[0m\u001b[1;33m(\u001b[0m\u001b[0mX_tr\u001b[0m\u001b[1;33m,\u001b[0m \u001b[0my_tr\u001b[0m\u001b[1;33m,\u001b[0m \u001b[0min_row\u001b[0m\u001b[1;33m=\u001b[0m\u001b[1;32mTrue\u001b[0m\u001b[1;33m)\u001b[0m\u001b[1;33m\u001b[0m\u001b[1;33m\u001b[0m\u001b[0m\n\u001b[0;32m      6\u001b[0m \u001b[0my_ols\u001b[0m \u001b[1;33m=\u001b[0m \u001b[0mols\u001b[0m\u001b[1;33m.\u001b[0m\u001b[0mpredict\u001b[0m\u001b[1;33m(\u001b[0m\u001b[0mX_ts\u001b[0m\u001b[1;33m,\u001b[0m \u001b[0min_row\u001b[0m\u001b[1;33m=\u001b[0m\u001b[1;32mTrue\u001b[0m\u001b[1;33m)\u001b[0m\u001b[1;33m\u001b[0m\u001b[1;33m\u001b[0m\u001b[0m\n",
      "\u001b[1;31mNameError\u001b[0m: name 'OrdinaryLeastSquare' is not defined"
     ]
    }
   ],
   "source": [
    "# Classifiers\n",
    "\n",
    "# OLS experimentation\n",
    "ols = OrdinaryLeastSquare()\n",
    "ols.fit(X_tr, y_tr, in_row=True)\n",
    "y_ols = ols.predict(X_ts, in_row=True)\n",
    "\n",
    "# ELM experimentation\n",
    "elm = ExtremeLearningMachine()\n",
    "elm.fit(X_tr, y_tr, in_row=True, h_layer_size=20)\n",
    "y_elm = elm.predict(X_ts, in_row=True)\n",
    "\n",
    "# MLP experimentation\n",
    "NPL = [p, 4, n_classes]     # MLP layer structure\n",
    "mlp = MultiLayerPerceptron()\n",
    "mlp.fit(X=X_tr, Y=y_tr, Xv=X_tr, Yv=y_tr, NPL=NPL, epochs=20, n_batches=1, \n",
    "        alpha=1e-2, decay=0, momentum=0, l2=0, dropout_percent=0)\n",
    "y_mlp = mlp.predict(X_ts)[-1]\n",
    "\n",
    "# LSSVC experimentation\n",
    "lssvc = LSSVC()\n",
    "lssvc.fit(X_tr, y_tr)\n",
    "y_lssvc = lssvc.predict(X_ts)\n",
    "\n",
    "# LSSVC GPU experimentation\n",
    "lssvc_gpu = LSSVC_GPU()\n",
    "lssvc_gpu.fit(X_tr, y_tr)\n",
    "y_lssvc_gpu = lssvc_gpu.predict(X_ts)\n",
    "\n",
    "lssvc_gpu.dump(filepath='model', only_hyperparams=False)       # Test dumping\n",
    "\n",
    "lssvc_gpu2   = LSSVC_GPU.load(filepath='model')                # Test loading\n",
    "y_lssvc_gpu2 = lssvc_gpu2.predict(X_ts)"
   ]
  },
  {
   "cell_type": "code",
   "execution_count": 5,
   "metadata": {},
   "outputs": [
    {
     "name": "stdout",
     "output_type": "stream",
     "text": [
      "Results - OLS\n"
     ]
    },
    {
     "ename": "NameError",
     "evalue": "name 'y_ols' is not defined",
     "output_type": "error",
     "traceback": [
      "\u001b[1;31m---------------------------------------------------------------------------\u001b[0m",
      "\u001b[1;31mNameError\u001b[0m                                 Traceback (most recent call last)",
      "\u001b[1;32m<ipython-input-5-3c4310c24137>\u001b[0m in \u001b[0;36m<module>\u001b[1;34m\u001b[0m\n\u001b[0;32m      2\u001b[0m \u001b[1;33m\u001b[0m\u001b[0m\n\u001b[0;32m      3\u001b[0m \u001b[0mprint\u001b[0m\u001b[1;33m(\u001b[0m\u001b[1;34m'Results - OLS'\u001b[0m\u001b[1;33m)\u001b[0m\u001b[1;33m\u001b[0m\u001b[1;33m\u001b[0m\u001b[0m\n\u001b[1;32m----> 4\u001b[1;33m \u001b[0mcm_ols\u001b[0m \u001b[1;33m=\u001b[0m \u001b[0mconfusion_matrix\u001b[0m\u001b[1;33m(\u001b[0m\u001b[0my_ts\u001b[0m\u001b[1;33m,\u001b[0m \u001b[0my_ols\u001b[0m\u001b[1;33m.\u001b[0m\u001b[0mT\u001b[0m\u001b[1;33m)\u001b[0m\u001b[1;33m\u001b[0m\u001b[1;33m\u001b[0m\u001b[0m\n\u001b[0m\u001b[0;32m      5\u001b[0m \u001b[0mprint\u001b[0m\u001b[1;33m(\u001b[0m\u001b[0mcm_ols\u001b[0m\u001b[1;33m)\u001b[0m\u001b[1;33m\u001b[0m\u001b[1;33m\u001b[0m\u001b[0m\n\u001b[0;32m      6\u001b[0m \u001b[0mprint\u001b[0m\u001b[1;33m(\u001b[0m\u001b[0mcompute_indices\u001b[0m\u001b[1;33m(\u001b[0m\u001b[0mcm_ols\u001b[0m\u001b[1;33m)\u001b[0m\u001b[1;33m[\u001b[0m\u001b[1;36m0\u001b[0m\u001b[1;33m]\u001b[0m\u001b[1;33m)\u001b[0m\u001b[1;33m\u001b[0m\u001b[1;33m\u001b[0m\u001b[0m\n",
      "\u001b[1;31mNameError\u001b[0m: name 'y_ols' is not defined"
     ]
    }
   ],
   "source": [
    "# Results\n",
    "\n",
    "print('Results - OLS')\n",
    "cm_ols = confusion_matrix(y_ts, y_ols.T)\n",
    "print(cm_ols)\n",
    "print(compute_indices(cm_ols)[0])\n",
    "\n",
    "print('Results - ELM')\n",
    "cm_elm = confusion_matrix(y_ts, y_elm.T)\n",
    "print(cm_elm)\n",
    "print(compute_indices(cm_elm)[0])\n",
    "\n",
    "print('Results - LSSVC')\n",
    "cm_lssvc = confusion_matrix(y_ts, y_lssvc)\n",
    "print(cm_lssvc)\n",
    "print(compute_indices(cm_lssvc)[0])\n",
    "\n",
    "print('Results - LSSVC (GPU)')\n",
    "cm_lssvc_gpu = confusion_matrix(y_ts, y_lssvc_gpu)\n",
    "print(cm_lssvc_gpu)\n",
    "print(compute_indices(cm_lssvc_gpu)[0])\n",
    "\n",
    "print('Results - LSSVC (GPU - Loaded)')\n",
    "cm_lssvc_gpu2 = confusion_matrix(y_ts, y_lssvc_gpu2)\n",
    "print(cm_lssvc_gpu2)\n",
    "print(compute_indices(cm_lssvc_gpu2)[0])\n",
    "\n",
    "print('Results - MLP')\n",
    "cm_mlp = confusion_matrix(y_ts, y_mlp)\n",
    "print(cm_mlp)\n",
    "print(compute_indices(cm_mlp)[0])"
   ]
  },
  {
   "cell_type": "code",
   "execution_count": null,
   "metadata": {},
   "outputs": [],
   "source": []
  }
 ],
 "metadata": {
  "kernelspec": {
   "display_name": "Python 3",
   "language": "python",
   "name": "python3"
  },
  "language_info": {
   "codemirror_mode": {
    "name": "ipython",
    "version": 3
   },
   "file_extension": ".py",
   "mimetype": "text/x-python",
   "name": "python",
   "nbconvert_exporter": "python",
   "pygments_lexer": "ipython3",
   "version": "3.7.7"
  }
 },
 "nbformat": 4,
 "nbformat_minor": 4
}
