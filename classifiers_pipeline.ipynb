{
 "cells": [
  {
   "cell_type": "code",
   "execution_count": null,
   "metadata": {},
   "outputs": [],
   "source": [
    "# Include the parent folder (to use the library folder)\n",
    "\n",
    "import sys\n",
    "sys.path.insert(0,'..')"
   ]
  },
  {
   "cell_type": "code",
   "execution_count": 2,
   "metadata": {},
   "outputs": [],
   "source": [
    "# Get toolbox functions\n",
    "\n",
    "from toolbox.datasets.dataset_loader import dataset_pipeline\n",
    "\n",
    "from toolbox.evaluation.classification import confusion_matrix, compute_indices\n",
    "\n",
    "from toolbox.learning.linear.ols import OrdinaryLeastSquare\n",
    "from toolbox.learning.neural_networks.supervised.models.elm import ExtremeLearningMachine\n",
    "from toolbox.learning.neural_networks.supervised.models.mlp import MultiLayerPerceptron\n",
    "from toolbox.learning.svm.LSSVC import LSSVC\n",
    "from toolbox.learning.svm.LSSVC_GPU import LSSVC_GPU"
   ]
  },
  {
   "cell_type": "code",
   "execution_count": 3,
   "metadata": {},
   "outputs": [],
   "source": [
    "# Set Experiment\n",
    "\n",
    "experiment = {\n",
    "       'DS'  : 'iris',                                    # Dataset\n",
    "       'CV'  : {'type': 'hold-out', 'train_size': 0.8},   # Hold-out cross validation with 5 repetitions Tr/Te = 80/20\n",
    "       'PP'  : {'norm_type': 'z_score', 'label_encoding': 'binary'},\n",
    "       'OUT' : {'file_name': 'teste_1', 'file_path': ''}\n",
    "}"
   ]
  },
  {
   "cell_type": "code",
   "execution_count": 4,
   "metadata": {},
   "outputs": [],
   "source": [
    "# Load Data Set\n",
    "\n",
    "X_tr, y_tr, X_ts, y_ts = dataset_pipeline(s_info = experiment)\n",
    "\n",
    "N1 = X_tr.shape[0]\n",
    "N2 = y_tr.shape[0]\n",
    "\n",
    "p = X_tr.shape[1]\n",
    "n_classes = y_tr.shape[1]\n"
   ]
  },
  {
   "cell_type": "code",
   "execution_count": 5,
   "metadata": {},
   "outputs": [],
   "source": [
    "# Classifiers\n",
    "\n",
    "# OLS experimentation\n",
    "ols = OrdinaryLeastSquare()\n",
    "ols.fit(X_tr, y_tr, in_row=True)\n",
    "y_ols = ols.predict(X_ts, in_row=True)\n",
    "\n",
    "# ELM experimentation\n",
    "elm = ExtremeLearningMachine()\n",
    "elm.fit(X_tr, y_tr, h_layer_size = 20, in_row = True)\n",
    "y_elm = elm.predict(X_ts, in_row=True)\n",
    "\n",
    "# MLP experimentation\n",
    "mlp = MultiLayerPerceptron()\n",
    "mlp.fit(X = X_tr, Y = y_tr, Xv = X_tr, Yv = y_tr, NPL = [p, 4, n_classes], epochs = 20, n_batches = 1,\n",
    "        alpha = 1e-2, decay = 0, momentum = 0, l2 = 0, dropout_percent = 0)\n",
    "y_mlp = mlp.predict(X_ts)[-1]\n",
    "\n",
    "# LSSVC experimentation\n",
    "lssvc = LSSVC()\n",
    "lssvc.fit(X_tr, y_tr)\n",
    "y_lssvc = lssvc.predict(X_ts)\n",
    "\n",
    "# LSSVC GPU experimentation\n",
    "lssvc_gpu = LSSVC_GPU()\n",
    "lssvc_gpu.fit(X_tr, y_tr)\n",
    "y_lssvc_gpu = lssvc_gpu.predict(X_ts)\n",
    "\n",
    "# Test dumping (LSSVC GPU)\n",
    "lssvc_gpu.dump(filepath='model', only_hyperparams=False)      \n",
    "\n",
    " # Test loading (LSSVC GPU)\n",
    "lssvc_gpu2   = LSSVC_GPU.load(filepath='model')               \n",
    "y_lssvc_gpu2 = lssvc_gpu2.predict(X_ts)"
   ]
  },
  {
   "cell_type": "code",
   "execution_count": 6,
   "metadata": {},
   "outputs": [
    {
     "name": "stdout",
     "output_type": "stream",
     "text": [
      "Results - OLS\n",
      "[[10.  0.  0.]\n",
      " [ 0. 10.  3.]\n",
      " [ 0.  3.  4.]]\n",
      "0.8\n",
      "Results - ELM\n",
      "[[10.  0.  0.]\n",
      " [ 0. 13.  0.]\n",
      " [ 0.  2.  5.]]\n",
      "0.9333333333333333\n",
      "Results - LSSVC\n",
      "[[10.  0.  0.]\n",
      " [ 0. 13.  0.]\n",
      " [ 0.  2.  5.]]\n",
      "0.9333333333333333\n",
      "Results - LSSVC (GPU)\n",
      "[[10.  0.  0.]\n",
      " [ 0. 13.  0.]\n",
      " [ 0.  2.  5.]]\n",
      "0.9333333333333333\n",
      "Results - LSSVC (GPU - Loaded)\n",
      "[[10.  0.  0.]\n",
      " [ 0. 13.  0.]\n",
      " [ 0.  2.  5.]]\n",
      "0.9333333333333333\n",
      "Results - MLP\n",
      "[[10.  0.  0.]\n",
      " [ 0. 13.  0.]\n",
      " [ 0.  1.  6.]]\n",
      "0.9666666666666667\n"
     ]
    }
   ],
   "source": [
    "# Results\n",
    "\n",
    "print('Results - OLS')\n",
    "cm_ols = confusion_matrix(y_ts, y_ols.T)\n",
    "print(cm_ols)\n",
    "print(compute_indices(cm_ols)[0])\n",
    "\n",
    "print('Results - ELM')\n",
    "cm_elm = confusion_matrix(y_ts, y_elm.T)\n",
    "print(cm_elm)\n",
    "print(compute_indices(cm_elm)[0])\n",
    "\n",
    "print('Results - LSSVC')\n",
    "cm_lssvc = confusion_matrix(y_ts, y_lssvc)\n",
    "print(cm_lssvc)\n",
    "print(compute_indices(cm_lssvc)[0])\n",
    "\n",
    "print('Results - LSSVC (GPU)')\n",
    "cm_lssvc_gpu = confusion_matrix(y_ts, y_lssvc_gpu)\n",
    "print(cm_lssvc_gpu)\n",
    "print(compute_indices(cm_lssvc_gpu)[0])\n",
    "\n",
    "print('Results - LSSVC (GPU - Loaded)')\n",
    "cm_lssvc_gpu2 = confusion_matrix(y_ts, y_lssvc_gpu2)\n",
    "print(cm_lssvc_gpu2)\n",
    "print(compute_indices(cm_lssvc_gpu2)[0])\n",
    "\n",
    "print('Results - MLP')\n",
    "cm_mlp = confusion_matrix(y_ts, y_mlp)\n",
    "print(cm_mlp)\n",
    "print(compute_indices(cm_mlp)[0])"
   ]
  },
  {
   "cell_type": "code",
   "execution_count": null,
   "metadata": {},
   "outputs": [],
   "source": []
  }
 ],
 "metadata": {
  "kernelspec": {
   "display_name": "Python 3",
   "language": "python",
   "name": "python3"
  },
  "language_info": {
   "codemirror_mode": {
    "name": "ipython",
    "version": 3
   },
   "file_extension": ".py",
   "mimetype": "text/x-python",
   "name": "python",
   "nbconvert_exporter": "python",
   "pygments_lexer": "ipython3",
   "version": "3.7.7"
  }
 },
 "nbformat": 4,
 "nbformat_minor": 4
}
